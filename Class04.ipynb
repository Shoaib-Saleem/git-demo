{
 "cells": [
  {
   "cell_type": "markdown",
   "id": "fe0d76e0-0bf7-4f77-a709-acfd2c7e6fd9",
   "metadata": {},
   "source": [
    "## Tuples\n",
    "- starts with ()\n",
    "- Immutable, can't change\n",
    "- Ordered elements"
   ]
  },
  {
   "cell_type": "code",
   "execution_count": 4,
   "id": "b213e1ad-3584-4a5d-a764-2a74544e668e",
   "metadata": {},
   "outputs": [
    {
     "data": {
      "text/plain": [
       "(1, 2, 3, 4)"
      ]
     },
     "execution_count": 4,
     "metadata": {},
     "output_type": "execute_result"
    }
   ],
   "source": [
    "first_tuple = (1,2,3,4)\n",
    "first_tuple"
   ]
  },
  {
   "cell_type": "code",
   "execution_count": 6,
   "id": "7c5f2789-5aff-49f3-a6de-f5f62ce4e7d6",
   "metadata": {},
   "outputs": [],
   "source": [
    "multiple_datatypes = (1,\"tuple\",0.32)"
   ]
  },
  {
   "cell_type": "code",
   "execution_count": 8,
   "id": "77b45219-9f35-4634-b1d9-f7c0bb259622",
   "metadata": {},
   "outputs": [
    {
     "data": {
      "text/plain": [
       "(1, 'tuple', 0.32)"
      ]
     },
     "execution_count": 8,
     "metadata": {},
     "output_type": "execute_result"
    }
   ],
   "source": [
    "multiple_datatypes"
   ]
  },
  {
   "cell_type": "code",
   "execution_count": 10,
   "id": "8f810e3a-a40f-45c3-96da-517ecdbaef3d",
   "metadata": {},
   "outputs": [
    {
     "name": "stdout",
     "output_type": "stream",
     "text": [
      "<class 'tuple'>\n"
     ]
    }
   ],
   "source": [
    "print(type(multiple_datatypes))"
   ]
  },
  {
   "cell_type": "code",
   "execution_count": 12,
   "id": "a3ab407f-1144-4875-bb0f-ab7b2bdba1d8",
   "metadata": {},
   "outputs": [],
   "source": [
    "single_tuple = (1)"
   ]
  },
  {
   "cell_type": "code",
   "execution_count": 14,
   "id": "9d1d6d4a-6312-4c54-8e81-b6c583a179f2",
   "metadata": {},
   "outputs": [
    {
     "data": {
      "text/plain": [
       "1"
      ]
     },
     "execution_count": 14,
     "metadata": {},
     "output_type": "execute_result"
    }
   ],
   "source": [
    "single_tuple"
   ]
  },
  {
   "cell_type": "code",
   "execution_count": 18,
   "id": "43365f54-4ca0-4ca8-824a-73c5fa2f5b51",
   "metadata": {},
   "outputs": [
    {
     "name": "stdout",
     "output_type": "stream",
     "text": [
      "<class 'int'>\n"
     ]
    }
   ],
   "source": [
    "print(type(single_tuple))"
   ]
  },
  {
   "cell_type": "code",
   "execution_count": 22,
   "id": "a4354177-9146-479b-82c9-4cac1f7cf631",
   "metadata": {},
   "outputs": [],
   "source": [
    "single_tuple =(1,)"
   ]
  },
  {
   "cell_type": "code",
   "execution_count": 24,
   "id": "98cca2be-f17e-47a4-bb1b-6d6ab96b304d",
   "metadata": {},
   "outputs": [
    {
     "name": "stdout",
     "output_type": "stream",
     "text": [
      "<class 'tuple'>\n"
     ]
    }
   ],
   "source": [
    "print(type(single_tuple))"
   ]
  },
  {
   "cell_type": "code",
   "execution_count": 26,
   "id": "b8643939-9660-44c9-8808-b0ae897ba1c4",
   "metadata": {},
   "outputs": [],
   "source": [
    "new_tuple = (\"shoaib\",\"uzair\",\"asad\",\"qasim\")"
   ]
  },
  {
   "cell_type": "code",
   "execution_count": 28,
   "id": "469eb3df-d369-4eda-86e1-85b1aa33287f",
   "metadata": {},
   "outputs": [
    {
     "data": {
      "text/plain": [
       "'asad'"
      ]
     },
     "execution_count": 28,
     "metadata": {},
     "output_type": "execute_result"
    }
   ],
   "source": [
    "new_tuple[2]"
   ]
  },
  {
   "cell_type": "code",
   "execution_count": 32,
   "id": "93672ff0-847b-40b0-8a38-6e5af267581b",
   "metadata": {},
   "outputs": [
    {
     "data": {
      "text/plain": [
       "('uzair', 'asad', 'qasim')"
      ]
     },
     "execution_count": 32,
     "metadata": {},
     "output_type": "execute_result"
    }
   ],
   "source": [
    "new_tuple[1:]"
   ]
  },
  {
   "cell_type": "code",
   "execution_count": 34,
   "id": "776456a8-cd94-47b3-b132-d2fb0700cb03",
   "metadata": {},
   "outputs": [
    {
     "data": {
      "text/plain": [
       "('shoaib', 'uzair', 'asad')"
      ]
     },
     "execution_count": 34,
     "metadata": {},
     "output_type": "execute_result"
    }
   ],
   "source": [
    "new_tuple[:3]"
   ]
  },
  {
   "cell_type": "code",
   "execution_count": 42,
   "id": "84720b3b-ba66-4b30-8bea-874fa0e1a103",
   "metadata": {},
   "outputs": [
    {
     "data": {
      "text/plain": [
       "('qasim',)"
      ]
     },
     "execution_count": 42,
     "metadata": {},
     "output_type": "execute_result"
    }
   ],
   "source": [
    "new_tuple[-1:-2:-1]"
   ]
  },
  {
   "cell_type": "code",
   "execution_count": 54,
   "id": "87bd9a4f-52c1-491e-8eaa-575f7d2bb063",
   "metadata": {},
   "outputs": [
    {
     "ename": "TypeError",
     "evalue": "'tuple' object does not support item assignment",
     "output_type": "error",
     "traceback": [
      "\u001b[1;31m---------------------------------------------------------------------------\u001b[0m",
      "\u001b[1;31mTypeError\u001b[0m                                 Traceback (most recent call last)",
      "Cell \u001b[1;32mIn[54], line 1\u001b[0m\n\u001b[1;32m----> 1\u001b[0m new_tuple[\u001b[38;5;241m0\u001b[39m] \u001b[38;5;241m=\u001b[39m \u001b[38;5;124m\"\u001b[39m\u001b[38;5;124masim\u001b[39m\u001b[38;5;124m\"\u001b[39m\n",
      "\u001b[1;31mTypeError\u001b[0m: 'tuple' object does not support item assignment"
     ]
    }
   ],
   "source": [
    "new_tuple[0] = \"asim\" # immutable"
   ]
  },
  {
   "cell_type": "markdown",
   "id": "50dabb5b-fb34-4010-9e5a-c38ba7d85a78",
   "metadata": {},
   "source": [
    "## Functionlaties"
   ]
  },
  {
   "cell_type": "code",
   "execution_count": 65,
   "id": "77bca3be-91de-475b-a4ae-9536b8e0e8fe",
   "metadata": {},
   "outputs": [
    {
     "name": "stdout",
     "output_type": "stream",
     "text": [
      "104\n",
      "88\n"
     ]
    }
   ],
   "source": [
    "import sys\n",
    "\n",
    "lists =[\"Qasim\",\"asad\",\"nasir\",\"raja\",\"rana\"]\n",
    "tupple = (\"Qasim\",\"asad\",\"nasir\",\"raja\",\"rana\",\"rana\")\n",
    "\n",
    "print(sys.getsizeof(lists))\n",
    "print(sys.getsizeof(tupple))"
   ]
  },
  {
   "cell_type": "code",
   "execution_count": 67,
   "id": "c1d4783f-32b8-4f01-99d1-4584bc1c3f76",
   "metadata": {},
   "outputs": [
    {
     "data": {
      "text/plain": [
       "2"
      ]
     },
     "execution_count": 67,
     "metadata": {},
     "output_type": "execute_result"
    }
   ],
   "source": [
    "tupple.count(\"rana\")"
   ]
  },
  {
   "cell_type": "code",
   "execution_count": 69,
   "id": "c722c4e1-6cc7-4402-9af1-353180039aec",
   "metadata": {},
   "outputs": [
    {
     "data": {
      "text/plain": [
       "2"
      ]
     },
     "execution_count": 69,
     "metadata": {},
     "output_type": "execute_result"
    }
   ],
   "source": [
    "tupple.index(\"nasir\")"
   ]
  },
  {
   "cell_type": "markdown",
   "id": "02c117c2-fcdd-4a81-af51-042ef4746a7e",
   "metadata": {},
   "source": [
    "## Nested Lists & Tupples"
   ]
  },
  {
   "cell_type": "code",
   "execution_count": 75,
   "id": "5d131e4c-60b0-4a8b-9b3e-d89daff9278f",
   "metadata": {},
   "outputs": [],
   "source": [
    "nested_list = [1,2,3,[5,6],7,8]"
   ]
  },
  {
   "cell_type": "code",
   "execution_count": 85,
   "id": "02924bdd-5d3c-4ce7-bd76-1dcec12cc223",
   "metadata": {},
   "outputs": [
    {
     "data": {
      "text/plain": [
       "[5, 6]"
      ]
     },
     "execution_count": 85,
     "metadata": {},
     "output_type": "execute_result"
    }
   ],
   "source": [
    "nested_list[3]"
   ]
  },
  {
   "cell_type": "code",
   "execution_count": 83,
   "id": "e0a53ea1-f436-4f50-bfd0-b0bcf548f698",
   "metadata": {},
   "outputs": [
    {
     "data": {
      "text/plain": [
       "5"
      ]
     },
     "execution_count": 83,
     "metadata": {},
     "output_type": "execute_result"
    }
   ],
   "source": [
    "nested_list[3][0]"
   ]
  },
  {
   "cell_type": "code",
   "execution_count": 93,
   "id": "75ac33b7-3cb6-4587-88fd-a9b3f4326bb6",
   "metadata": {},
   "outputs": [],
   "source": [
    "nested_tupple = (1,2,3,(5,6),7,8)"
   ]
  },
  {
   "cell_type": "code",
   "execution_count": 95,
   "id": "bd0f34ce-bdf2-4029-be64-1f8c2fd68407",
   "metadata": {},
   "outputs": [
    {
     "data": {
      "text/plain": [
       "(5, 6)"
      ]
     },
     "execution_count": 95,
     "metadata": {},
     "output_type": "execute_result"
    }
   ],
   "source": [
    "nested_tupple[3]"
   ]
  },
  {
   "cell_type": "code",
   "execution_count": 97,
   "id": "6c719eca-16fd-4934-8ef2-7c6edf7af7c9",
   "metadata": {},
   "outputs": [
    {
     "data": {
      "text/plain": [
       "5"
      ]
     },
     "execution_count": 97,
     "metadata": {},
     "output_type": "execute_result"
    }
   ],
   "source": [
    "nested_tupple[3][0]"
   ]
  },
  {
   "cell_type": "markdown",
   "id": "6bf3531e-b914-494a-8f38-538bb975cc81",
   "metadata": {},
   "source": [
    "## Sets\n",
    "- Unordered\n",
    "- Unique Values\n",
    "- Can't use indexing"
   ]
  },
  {
   "cell_type": "code",
   "execution_count": 102,
   "id": "5c540684-804a-49dd-bf84-7c68edb28d09",
   "metadata": {},
   "outputs": [],
   "source": [
    "first_set = {1,2,34,5}"
   ]
  },
  {
   "cell_type": "code",
   "execution_count": 108,
   "id": "e675afc3-c8cf-41de-b15a-694ccdb7cda3",
   "metadata": {},
   "outputs": [
    {
     "data": {
      "text/plain": [
       "{1, 2, 5, 34}"
      ]
     },
     "execution_count": 108,
     "metadata": {},
     "output_type": "execute_result"
    }
   ],
   "source": [
    "first_set"
   ]
  },
  {
   "cell_type": "code",
   "execution_count": 112,
   "id": "2278e5b9-0b2c-4cb6-9570-5347d9a64363",
   "metadata": {},
   "outputs": [],
   "source": [
    "second_method = set([1,2,3])"
   ]
  },
  {
   "cell_type": "code",
   "execution_count": 116,
   "id": "adaf9d58-5c21-4018-acca-a4eec0828bcb",
   "metadata": {},
   "outputs": [
    {
     "data": {
      "text/plain": [
       "{1, 2, 3}"
      ]
     },
     "execution_count": 116,
     "metadata": {},
     "output_type": "execute_result"
    }
   ],
   "source": [
    "second_method"
   ]
  },
  {
   "cell_type": "code",
   "execution_count": 118,
   "id": "f290a7af-0027-43be-b934-8e8e20a39f79",
   "metadata": {},
   "outputs": [
    {
     "ename": "TypeError",
     "evalue": "'set' object is not subscriptable",
     "output_type": "error",
     "traceback": [
      "\u001b[1;31m---------------------------------------------------------------------------\u001b[0m",
      "\u001b[1;31mTypeError\u001b[0m                                 Traceback (most recent call last)",
      "Cell \u001b[1;32mIn[118], line 1\u001b[0m\n\u001b[1;32m----> 1\u001b[0m second_method[\u001b[38;5;241m0\u001b[39m]\n",
      "\u001b[1;31mTypeError\u001b[0m: 'set' object is not subscriptable"
     ]
    }
   ],
   "source": [
    "second_method[0]"
   ]
  },
  {
   "cell_type": "markdown",
   "id": "a09ebb0d-0044-4971-99d0-0005ea611baf",
   "metadata": {},
   "source": [
    "## For Loop\n"
   ]
  },
  {
   "cell_type": "markdown",
   "id": "0201f637-c33f-41d0-8817-4e0e52f7ea8a",
   "metadata": {},
   "source": [
    "Syntax:\n",
    "for variable in iterator:\n",
    "block"
   ]
  },
  {
   "cell_type": "code",
   "execution_count": 127,
   "id": "3c34e08d-dbde-45e6-a8aa-47ab6d05737a",
   "metadata": {},
   "outputs": [],
   "source": [
    "lists = [\"Qasim\",\"Asad\",\"Shoaib\",\"Saleem\",\"Hamza\"]"
   ]
  },
  {
   "cell_type": "code",
   "execution_count": 131,
   "id": "39317f43-465c-4b83-aa7f-577b5839bd77",
   "metadata": {},
   "outputs": [
    {
     "name": "stdout",
     "output_type": "stream",
     "text": [
      "Qasim\n",
      "Asad\n",
      "Shoaib\n",
      "Saleem\n",
      "Hamza\n"
     ]
    }
   ],
   "source": [
    "for i in lists:\n",
    "    print(i)"
   ]
  },
  {
   "cell_type": "code",
   "execution_count": 133,
   "id": "ef561fd7-887c-452e-866d-a268e5ffcbbf",
   "metadata": {},
   "outputs": [
    {
     "name": "stdout",
     "output_type": "stream",
     "text": [
      "5\n"
     ]
    }
   ],
   "source": [
    "print(len(lists))"
   ]
  },
  {
   "cell_type": "code",
   "execution_count": 135,
   "id": "8f42a60b-3359-4087-a25a-96071f074ba1",
   "metadata": {},
   "outputs": [
    {
     "name": "stdout",
     "output_type": "stream",
     "text": [
      "0\n",
      "1\n",
      "2\n",
      "3\n",
      "4\n",
      "5\n",
      "6\n",
      "7\n",
      "8\n",
      "9\n"
     ]
    }
   ],
   "source": [
    "#Range Function\n",
    "\n",
    "for i in range(10): # 0 to 9\n",
    "    print(i)"
   ]
  },
  {
   "cell_type": "code",
   "execution_count": 141,
   "id": "af8ce4d5-e617-43fe-b480-ad87c4fb3d45",
   "metadata": {},
   "outputs": [
    {
     "name": "stdout",
     "output_type": "stream",
     "text": [
      "0 Qasim\n",
      "1 Asad\n",
      "2 Shoaib\n",
      "3 Saleem\n",
      "4 Hamza\n"
     ]
    }
   ],
   "source": [
    "for i in range(len(lists)):\n",
    "    print(i,lists[i])"
   ]
  },
  {
   "cell_type": "code",
   "execution_count": 147,
   "id": "28486262-5702-49aa-9006-d0518ee7cc13",
   "metadata": {},
   "outputs": [
    {
     "name": "stdout",
     "output_type": "stream",
     "text": [
      "0 Qasim\n",
      "1 Asad\n",
      "2 Shoaib\n",
      "3 Saleem\n",
      "4 Hamza\n"
     ]
    }
   ],
   "source": [
    "import time\n",
    "for i in range(len(lists)):\n",
    "    print(i,lists[i])\n",
    "    time.sleep(2)"
   ]
  },
  {
   "cell_type": "code",
   "execution_count": 149,
   "id": "19fd8f16-074d-422f-8369-9d8dd71b0479",
   "metadata": {},
   "outputs": [
    {
     "name": "stdout",
     "output_type": "stream",
     "text": [
      "S\n",
      "M\n",
      "I\n",
      "T\n",
      "D\n",
      "E\n",
      "C\n",
      "L\n",
      "A\n",
      "S\n",
      "S\n"
     ]
    }
   ],
   "source": [
    "var = 'SMITDECLASS'\n",
    "\n",
    "for i in var:\n",
    "    print(i)"
   ]
  },
  {
   "cell_type": "code",
   "execution_count": 151,
   "id": "15202ce0-85c0-4c10-8a66-c0e9c21af62a",
   "metadata": {},
   "outputs": [
    {
     "name": "stdout",
     "output_type": "stream",
     "text": [
      "0 S\n",
      "1 M\n",
      "2 I\n",
      "3 T\n",
      "4 D\n",
      "5 E\n",
      "6 C\n",
      "7 L\n",
      "8 A\n",
      "9 S\n",
      "10 S\n"
     ]
    }
   ],
   "source": [
    "for i in range(len(var)):\n",
    "    print(i,var[i])"
   ]
  },
  {
   "cell_type": "code",
   "execution_count": 169,
   "id": "e8eb1cfd-8738-4eb9-ac21-9bf3536b054d",
   "metadata": {},
   "outputs": [
    {
     "name": "stdin",
     "output_type": "stream",
     "text": [
      "Enter value 1:  shoaib\n",
      "Enter value 2:  saleem\n",
      "Enter value 3:  asad\n",
      "Enter value 4:  asin\n",
      "Enter value 5:  uzair\n"
     ]
    }
   ],
   "source": [
    "inputs = []\n",
    "\n",
    "for i in range(5):\n",
    "    value = input(f\"Enter value {i+1}: \")\n",
    "    inputs.append(value)\n",
    "    "
   ]
  },
  {
   "cell_type": "code",
   "execution_count": 179,
   "id": "0a447feb-ab82-4d06-8d46-bbdbb1b31723",
   "metadata": {},
   "outputs": [
    {
     "name": "stdin",
     "output_type": "stream",
     "text": [
      "Enter your name: asad\n",
      "Enter your name: shoaib\n",
      "Enter your name: saleem\n",
      "Enter your name: asadi\n",
      "Enter your name: uzair\n"
     ]
    },
    {
     "name": "stdout",
     "output_type": "stream",
     "text": [
      "asad\n",
      "shoaib\n",
      "saleem\n",
      "asadi\n",
      "uzair\n"
     ]
    }
   ],
   "source": [
    "names= []\n",
    "\n",
    "for i in range(5):\n",
    "    name = input(\"Enter your name:\")\n",
    "    names.append(name)\n",
    "\n",
    "for i in names:\n",
    "    print(i)"
   ]
  },
  {
   "cell_type": "code",
   "execution_count": 183,
   "id": "5673c130-ee76-4643-9b88-6a999a1f4d53",
   "metadata": {},
   "outputs": [
    {
     "name": "stdout",
     "output_type": "stream",
     "text": [
      "2\n",
      "3\n",
      "4\n",
      "5\n",
      "6\n",
      "7\n",
      "8\n",
      "9\n",
      "10\n"
     ]
    }
   ],
   "source": [
    "for i in range(2,11): \n",
    "    print(i)"
   ]
  },
  {
   "cell_type": "markdown",
   "id": "b2698526-da8b-4c17-93c3-e8335fb7bbdc",
   "metadata": {},
   "source": [
    "## Nested Loops"
   ]
  },
  {
   "cell_type": "code",
   "execution_count": 230,
   "id": "7cf08a43-effe-4243-87e5-d2f5fa349132",
   "metadata": {},
   "outputs": [],
   "source": [
    "nested_lists = [[1,2,3,4,5],[8,9,10,11,12],[\"starc\",\"kohli\",\"root\"]]"
   ]
  },
  {
   "cell_type": "code",
   "execution_count": 202,
   "id": "479730e0-ee2c-4c12-814a-8e8822e6b48b",
   "metadata": {},
   "outputs": [
    {
     "name": "stdout",
     "output_type": "stream",
     "text": [
      "[1, 2, 3, 4, 5]\n",
      "[8, 9, 10, 11, 12]\n",
      "['starc', 'kohli,root']\n"
     ]
    }
   ],
   "source": [
    "for i in nested_lists:\n",
    "    print(i)"
   ]
  },
  {
   "cell_type": "code",
   "execution_count": 208,
   "id": "cc2b3268-d803-4494-ac32-7c94719a569e",
   "metadata": {},
   "outputs": [
    {
     "name": "stdout",
     "output_type": "stream",
     "text": [
      "[1, 2, 3, 4, 5]\n",
      "[8, 9, 10, 11, 12]\n",
      "['starc', 'kohli,root']\n",
      "[1, 2, 3, 4, 5]\n",
      "[8, 9, 10, 11, 12]\n",
      "['starc', 'kohli,root']\n",
      "[1, 2, 3, 4, 5]\n",
      "[8, 9, 10, 11, 12]\n",
      "['starc', 'kohli,root']\n"
     ]
    }
   ],
   "source": [
    "for i in nested_lists:\n",
    "    for j in nested_lists:\n",
    "        print(j)"
   ]
  },
  {
   "cell_type": "code",
   "execution_count": 236,
   "id": "cb9fe989-70a1-4ba8-b935-d317f56a8e4a",
   "metadata": {},
   "outputs": [
    {
     "ename": "TypeError",
     "evalue": "list indices must be integers or slices, not list",
     "output_type": "error",
     "traceback": [
      "\u001b[1;31m---------------------------------------------------------------------------\u001b[0m",
      "\u001b[1;31mTypeError\u001b[0m                                 Traceback (most recent call last)",
      "Cell \u001b[1;32mIn[236], line 3\u001b[0m\n\u001b[0;32m      1\u001b[0m \u001b[38;5;28;01mfor\u001b[39;00m i \u001b[38;5;129;01min\u001b[39;00m nested_lists:\n\u001b[0;32m      2\u001b[0m     \u001b[38;5;28;01mfor\u001b[39;00m j \u001b[38;5;129;01min\u001b[39;00m i:\n\u001b[1;32m----> 3\u001b[0m         \u001b[38;5;28mprint\u001b[39m(\u001b[38;5;124m\"\u001b[39m\u001b[38;5;124mWe are in i\u001b[39m\u001b[38;5;124m\"\u001b[39m,nested_lists[i],\u001b[38;5;124m\"\u001b[39m\u001b[38;5;124mi\u001b[39m\u001b[38;5;124m\"\u001b[39m,i,\u001b[38;5;124m\"\u001b[39m\u001b[38;5;124mj\u001b[39m\u001b[38;5;124m\"\u001b[39m,j)\n",
      "\u001b[1;31mTypeError\u001b[0m: list indices must be integers or slices, not list"
     ]
    }
   ],
   "source": [
    "for i in nested_lists:\n",
    "    for j in i:\n",
    "        print(\"We are in i\",nested_lists[i],\"i\",i,\"j\",j)"
   ]
  },
  {
   "cell_type": "code",
   "execution_count": 224,
   "id": "a8cb39f5-3638-44a0-982c-f7bbfd959d3b",
   "metadata": {},
   "outputs": [
    {
     "name": "stdout",
     "output_type": "stream",
     "text": [
      "i 1 j 1\n",
      "i 1 j 2\n",
      "i 2 j 1\n",
      "i 2 j 2\n"
     ]
    }
   ],
   "source": [
    "simple_list = [1,2]\n",
    "\n",
    "for i in simple_list:\n",
    "    #print(i)\n",
    "    for j in simple_list:\n",
    "        print(\"i\",i,\"j\",j)"
   ]
  },
  {
   "cell_type": "code",
   "execution_count": 260,
   "id": "4ba7b2c1-cbf7-4e5f-a787-af9c3f0445c8",
   "metadata": {},
   "outputs": [
    {
     "name": "stdout",
     "output_type": "stream",
     "text": [
      "*****\n",
      "*****\n",
      "*****\n",
      "*****\n",
      "*****\n"
     ]
    }
   ],
   "source": [
    "rows = 5\n",
    "columns = 5\n",
    "\n",
    "for i in range(rows):\n",
    "    print(\"*\"*columns)"
   ]
  },
  {
   "cell_type": "code",
   "execution_count": 278,
   "id": "03e1814f-042c-4dfa-9fe8-486fd6371fb8",
   "metadata": {},
   "outputs": [
    {
     "name": "stdout",
     "output_type": "stream",
     "text": [
      "*\n",
      "**\n",
      "***\n",
      "****\n",
      "*****\n"
     ]
    }
   ],
   "source": [
    "rows = 5\n",
    "columns = 1\n",
    "\n",
    "for i in range(rows):\n",
    "    print(\"*\"*columns)\n",
    "    columns+=1"
   ]
  },
  {
   "cell_type": "code",
   "execution_count": 290,
   "id": "ee5f6498-3a68-4e26-b37e-6f0efd9042c8",
   "metadata": {},
   "outputs": [
    {
     "name": "stdin",
     "output_type": "stream",
     "text": [
      "Enter Rows: 5\n",
      "Enter Columns: 1\n"
     ]
    },
    {
     "name": "stdout",
     "output_type": "stream",
     "text": [
      "*\n",
      "**\n",
      "***\n",
      "****\n",
      "*****\n"
     ]
    }
   ],
   "source": [
    "rows = int(input(\"Enter Rows:\"))\n",
    "columns = int(input(\"Enter Columns:\"))\n",
    "\n",
    "for i in range(rows):\n",
    "    print(\"*\"*columns)\n",
    "    columns+=1"
   ]
  },
  {
   "cell_type": "code",
   "execution_count": 330,
   "id": "00ea1a2c-5997-4949-9df8-7f95f98794af",
   "metadata": {},
   "outputs": [
    {
     "name": "stdout",
     "output_type": "stream",
     "text": [
      "\n",
      "*\n",
      "**\n",
      "***\n",
      "****\n"
     ]
    }
   ],
   "source": [
    "for i in range(5):\n",
    "    for j in range(i):\n",
    "        print(\"*\", end = \"\")\n",
    "       # j=+1\n",
    "    print()\n"
   ]
  },
  {
   "cell_type": "code",
   "execution_count": 298,
   "id": "b9b3631e-d028-4ff8-b026-3e1748aa3453",
   "metadata": {},
   "outputs": [
    {
     "name": "stdout",
     "output_type": "stream",
     "text": [
      "* * * * * \n",
      "* * * * * \n",
      "* * * * * \n",
      "* * * * * \n",
      "* * * * * \n"
     ]
    }
   ],
   "source": [
    "for i in range(5):\n",
    "    for j in range(5):\n",
    "        print(\"*\", end= \" \")\n",
    "    print()\n"
   ]
  },
  {
   "cell_type": "code",
   "execution_count": 332,
   "id": "595a01e0-50db-4d2d-9562-02028d184439",
   "metadata": {},
   "outputs": [
    {
     "name": "stdout",
     "output_type": "stream",
     "text": [
      "0\n"
     ]
    }
   ],
   "source": [
    "#Break\n",
    "\n",
    "for i in range(5):\n",
    "    print(i)\n",
    "    break"
   ]
  },
  {
   "cell_type": "markdown",
   "id": "06c3049e-aeef-461b-ab8d-7fbb786777d0",
   "metadata": {},
   "source": [
    "## Conditional Statements"
   ]
  },
  {
   "cell_type": "code",
   "execution_count": 338,
   "id": "8f76d2e2-61c3-42f3-b672-ff2a7570b689",
   "metadata": {},
   "outputs": [
    {
     "name": "stdout",
     "output_type": "stream",
     "text": [
      "0\n",
      "1\n",
      "2\n",
      "3\n"
     ]
    }
   ],
   "source": [
    "count = 0\n",
    "\n",
    "for i in range(5):\n",
    "    print(i)\n",
    "    if i==3:\n",
    "        break"
   ]
  },
  {
   "cell_type": "code",
   "execution_count": 352,
   "id": "37b06529-cd95-4f10-9c1b-58d815dba113",
   "metadata": {},
   "outputs": [
    {
     "name": "stdout",
     "output_type": "stream",
     "text": [
      "0\n",
      "Hello\n",
      "1\n",
      "Hello\n",
      "2\n",
      "Hello\n",
      "3\n",
      "4\n",
      "Hello\n"
     ]
    }
   ],
   "source": [
    "#Continue\n",
    "\n",
    "for i in range(5):\n",
    "    print(i)\n",
    "    if i==3:\n",
    "        continue\n",
    "    print(\"Hello\")"
   ]
  },
  {
   "cell_type": "code",
   "execution_count": 354,
   "id": "e7e3897e-0bb6-48c3-b78a-e7435bc6c4cb",
   "metadata": {},
   "outputs": [],
   "source": [
    "name = \"Ayan Hussain\""
   ]
  },
  {
   "cell_type": "code",
   "execution_count": 356,
   "id": "fd86d7f7-f7a6-463b-a107-517e975663de",
   "metadata": {},
   "outputs": [
    {
     "name": "stdout",
     "output_type": "stream",
     "text": [
      "ayan hussain\n"
     ]
    }
   ],
   "source": [
    "print(name.lower())"
   ]
  },
  {
   "cell_type": "code",
   "execution_count": 358,
   "id": "db467cda-c629-4372-a185-f8a4930b54a7",
   "metadata": {},
   "outputs": [
    {
     "name": "stdout",
     "output_type": "stream",
     "text": [
      "AYAN HUSSAIN\n"
     ]
    }
   ],
   "source": [
    "print(name.upper())"
   ]
  },
  {
   "cell_type": "code",
   "execution_count": 362,
   "id": "392759c9-2f63-4510-aead-53cb1b3306b1",
   "metadata": {},
   "outputs": [
    {
     "name": "stdout",
     "output_type": "stream",
     "text": [
      "Ayan Hussain\n"
     ]
    }
   ],
   "source": [
    "print(name.title())"
   ]
  },
  {
   "cell_type": "code",
   "execution_count": 382,
   "id": "331806b8-c137-403c-b3e0-83dbd92cf555",
   "metadata": {},
   "outputs": [
    {
     "name": "stdout",
     "output_type": "stream",
     "text": [
      "\n",
      "*\n",
      "**\n",
      "***\n",
      "****\n"
     ]
    }
   ],
   "source": [
    "for i in range(5):\n",
    "    for j in range(i):\n",
    "        print(\"*\",end=\"\")\n",
    "    print()"
   ]
  },
  {
   "cell_type": "code",
   "execution_count": null,
   "id": "fc1ecad8-730a-4f99-8ae2-9bdac0e77fd7",
   "metadata": {},
   "outputs": [],
   "source": []
  }
 ],
 "metadata": {
  "kernelspec": {
   "display_name": "Python 3 (ipykernel)",
   "language": "python",
   "name": "python3"
  },
  "language_info": {
   "codemirror_mode": {
    "name": "ipython",
    "version": 3
   },
   "file_extension": ".py",
   "mimetype": "text/x-python",
   "name": "python",
   "nbconvert_exporter": "python",
   "pygments_lexer": "ipython3",
   "version": "3.12.7"
  }
 },
 "nbformat": 4,
 "nbformat_minor": 5
}
