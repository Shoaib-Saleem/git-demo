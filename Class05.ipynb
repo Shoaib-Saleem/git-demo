{
 "cells": [
  {
   "cell_type": "markdown",
   "id": "8dae613a-1a20-4488-b192-adf2106757e1",
   "metadata": {},
   "source": [
    "## Shortcuts\n",
    "- ESC + 1,2,3 (To convert cell create heading )\n",
    "- ESC + M (convert selected cell into markdown)\n",
    "- ESC + A (create a cell above)\n",
    "- ESC + B (create a cell below)\n",
    "- ESC + DD (to delete any selected cell)\n",
    "- ESC + Y (convert any cell into code)\n",
    "- Shift + Enter (Execute the cell)\n",
    "- CTRL + Enter (run but stay in same cell\n",
    "- CTRL + Shift + H (to get all shortcut commands)"
   ]
  },
  {
   "cell_type": "markdown",
   "id": "83606b98-fa32-4fcc-82f8-6bb783bbf7af",
   "metadata": {},
   "source": [
    "## Dictionaries\n",
    "- Lists (collection of values, mutable)\n",
    "- Tuples (collection of values, immutable)\n",
    "- Dictionary (multiple collection of values)\n",
    "  - key:value"
   ]
  },
  {
   "cell_type": "code",
   "execution_count": 10,
   "id": "3dedfac7-0a37-4a24-8377-175d5333c988",
   "metadata": {},
   "outputs": [],
   "source": [
    "customer_786 = {\"f_name\": \"Qasim\", \n",
    "                \"l_name\": \"Hassan\",\n",
    "                \"address:\":\"Street786\",\n",
    "                \"order_price\":120}"
   ]
  },
  {
   "cell_type": "code",
   "execution_count": 12,
   "id": "4727cf99-90f8-4ed0-90f5-2eac61d2d6ed",
   "metadata": {},
   "outputs": [
    {
     "data": {
      "text/plain": [
       "{'f_name': 'Qasim',\n",
       " 'l_name': 'Hassan',\n",
       " 'address:': 'Street786',\n",
       " 'order_price': 120}"
      ]
     },
     "execution_count": 12,
     "metadata": {},
     "output_type": "execute_result"
    }
   ],
   "source": [
    "customer_786"
   ]
  },
  {
   "cell_type": "code",
   "execution_count": 16,
   "id": "9a37f15d-ce1b-4aed-8f70-2b98e986a047",
   "metadata": {},
   "outputs": [],
   "source": [
    "customer_786[\"Order_Item\"] = \"Shoes\" -- add new key:value"
   ]
  },
  {
   "cell_type": "code",
   "execution_count": 18,
   "id": "996ce20a-0d9f-4b5e-b890-a9aaf3062f96",
   "metadata": {},
   "outputs": [
    {
     "data": {
      "text/plain": [
       "{'f_name': 'Qasim',\n",
       " 'l_name': 'Hassan',\n",
       " 'address:': 'Street786',\n",
       " 'order_price': 120,\n",
       " 'Order_Item': 'Shoes'}"
      ]
     },
     "execution_count": 18,
     "metadata": {},
     "output_type": "execute_result"
    }
   ],
   "source": [
    "customer_786"
   ]
  },
  {
   "cell_type": "code",
   "execution_count": 22,
   "id": "c0b18916-86af-4891-bee8-fa5ede1fadd1",
   "metadata": {},
   "outputs": [],
   "source": [
    "customer = {\n",
    "    \"first_name\" : \"David\",\n",
    "    \"last_name\" : \"Elliot\",\n",
    "    \"address\" : \"4803 street\"\n",
    "}"
   ]
  },
  {
   "cell_type": "code",
   "execution_count": 24,
   "id": "34ef0f2c-e5b5-498e-9ff1-b7337ca39d3f",
   "metadata": {},
   "outputs": [
    {
     "data": {
      "text/plain": [
       "{'first_name': 'David', 'last_name': 'Elliot', 'address': '4803 street'}"
      ]
     },
     "execution_count": 24,
     "metadata": {},
     "output_type": "execute_result"
    }
   ],
   "source": [
    "customer"
   ]
  },
  {
   "cell_type": "code",
   "execution_count": 30,
   "id": "94c05a33-ce5e-4040-899d-fc25c9608fb2",
   "metadata": {},
   "outputs": [],
   "source": [
    "customer_Final = {\"customer\": {\"f_name\": \"Qasim\", \"l_name\": \"Hassan\",\"address:\":\"Street786\",\"order_price\":120},\n",
    "                  \"customer_786\" :{\"first_name\" : \"David\",\"last_name\" : \"Elliot\",\"address\" : \"4803 street\"} }"
   ]
  },
  {
   "cell_type": "code",
   "execution_count": 43,
   "id": "4eb94082-4f69-4bf1-9592-b1fcc1e03c35",
   "metadata": {},
   "outputs": [
    {
     "data": {
      "text/plain": [
       "{'customer': {'f_name': 'Qasim',\n",
       "  'l_name': 'Hassan',\n",
       "  'address:': 'Street786',\n",
       "  'order_price': 120},\n",
       " 'customer_786': {'first_name': 'David',\n",
       "  'last_name': 'Elliot',\n",
       "  'address': '4803 street'}}"
      ]
     },
     "execution_count": 43,
     "metadata": {},
     "output_type": "execute_result"
    }
   ],
   "source": [
    "customer_Final # Dictionary of dictionary"
   ]
  },
  {
   "cell_type": "markdown",
   "id": "2bb9908b-c481-4729-be8c-3021117b2858",
   "metadata": {},
   "source": [
    "## Dictionaries : How to pick information out of them"
   ]
  },
  {
   "cell_type": "code",
   "execution_count": 41,
   "id": "016badb5-bdda-43f7-96b9-aeec331c911d",
   "metadata": {},
   "outputs": [
    {
     "data": {
      "text/plain": [
       "{'f_name': 'Qasim',\n",
       " 'l_name': 'Hassan',\n",
       " 'address:': 'Street786',\n",
       " 'order_price': 120}"
      ]
     },
     "execution_count": 41,
     "metadata": {},
     "output_type": "execute_result"
    }
   ],
   "source": [
    "customer_Final[\"customer\"] # how to pick a value from a dictionary"
   ]
  },
  {
   "cell_type": "code",
   "execution_count": 57,
   "id": "19260d61-74b3-4b3f-98a0-62bb54fe7fe5",
   "metadata": {},
   "outputs": [],
   "source": [
    "customer_Final[\"customer_786\"][\"order_price\"] = 1200 # add a new key value pair in dictionary of dictionary"
   ]
  },
  {
   "cell_type": "code",
   "execution_count": 59,
   "id": "fe02d9e9-bb28-492b-a691-048d624a3180",
   "metadata": {},
   "outputs": [
    {
     "data": {
      "text/plain": [
       "{'customer': {'f_name': 'Qasim',\n",
       "  'l_name': 'Hassan',\n",
       "  'address:': 'Street786',\n",
       "  'order_price': 120},\n",
       " 'customer_786': {'first_name': 'David',\n",
       "  'last_name': 'Elliot',\n",
       "  'address': '4803 street',\n",
       "  'order_price': 1200}}"
      ]
     },
     "execution_count": 59,
     "metadata": {},
     "output_type": "execute_result"
    }
   ],
   "source": [
    "customer_Final"
   ]
  },
  {
   "cell_type": "code",
   "execution_count": 67,
   "id": "a7466ebc-5102-4196-9045-880af6d8cded",
   "metadata": {},
   "outputs": [
    {
     "data": {
      "text/plain": [
       "'4803 street'"
      ]
     },
     "execution_count": 67,
     "metadata": {},
     "output_type": "execute_result"
    }
   ],
   "source": [
    "customer_Final[\"customer_786\"][\"address\"] # extract a key from a dictionary of a dictionary"
   ]
  },
  {
   "cell_type": "markdown",
   "id": "7400053d-92f9-4840-b93a-b3e9f4d2ad7a",
   "metadata": {},
   "source": [
    "## Dictionaries: The versatility of keys and values\n",
    "- dictionary can hold multiple data types"
   ]
  },
  {
   "cell_type": "code",
   "execution_count": 74,
   "id": "f6a7d049-3d22-4de4-8545-454d78682a5c",
   "metadata": {},
   "outputs": [],
   "source": [
    "my_dict = {\n",
    "    \"name\" : \"Qasim Hassan\",\n",
    "    \"age\" : 19,\n",
    "    \"weight\" : 19.5,\n",
    "    \"is_present\" : True\n",
    "}"
   ]
  },
  {
   "cell_type": "code",
   "execution_count": 76,
   "id": "335d8b57-5251-4b1e-a3d1-efa0110741d2",
   "metadata": {},
   "outputs": [
    {
     "data": {
      "text/plain": [
       "{'name': 'Qasim Hassan', 'age': 19, 'weight': 19.5, 'is_present': True}"
      ]
     },
     "execution_count": 76,
     "metadata": {},
     "output_type": "execute_result"
    }
   ],
   "source": [
    "my_dict"
   ]
  },
  {
   "cell_type": "code",
   "execution_count": 80,
   "id": "63739b60-0e26-41f1-b8d6-439c47689d1e",
   "metadata": {},
   "outputs": [],
   "source": [
    "# keys of dictionary can be of any datatype\n",
    "\n",
    "customer_new = {786 : customer, 876: customer_786}"
   ]
  },
  {
   "cell_type": "code",
   "execution_count": 82,
   "id": "90c0536e-1895-4ea5-8eab-de25369a43f2",
   "metadata": {},
   "outputs": [
    {
     "data": {
      "text/plain": [
       "{786: {'first_name': 'David', 'last_name': 'Elliot', 'address': '4803 street'},\n",
       " 876: {'f_name': 'Qasim',\n",
       "  'l_name': 'Hassan',\n",
       "  'address:': 'Street786',\n",
       "  'order_price': 120,\n",
       "  'Order_Item': 'Shoes'}}"
      ]
     },
     "execution_count": 82,
     "metadata": {},
     "output_type": "execute_result"
    }
   ],
   "source": [
    "customer_new"
   ]
  },
  {
   "cell_type": "code",
   "execution_count": 88,
   "id": "6ecf0087-f6c1-4b1c-9984-d90b281ff505",
   "metadata": {},
   "outputs": [],
   "source": [
    "customer_exp = {True : customer, False : customer_786}"
   ]
  },
  {
   "cell_type": "code",
   "execution_count": 90,
   "id": "5fe21486-b707-4534-910e-71c9e0e1ea85",
   "metadata": {},
   "outputs": [
    {
     "data": {
      "text/plain": [
       "{True: {'first_name': 'David',\n",
       "  'last_name': 'Elliot',\n",
       "  'address': '4803 street'},\n",
       " False: {'f_name': 'Qasim',\n",
       "  'l_name': 'Hassan',\n",
       "  'address:': 'Street786',\n",
       "  'order_price': 120,\n",
       "  'Order_Item': 'Shoes'}}"
      ]
     },
     "execution_count": 90,
     "metadata": {},
     "output_type": "execute_result"
    }
   ],
   "source": [
    "customer_exp"
   ]
  },
  {
   "cell_type": "markdown",
   "id": "e466128f-52b1-42d0-96b8-87447b93c3ff",
   "metadata": {},
   "source": [
    "## Dictionaries: Removing and changing items\n"
   ]
  },
  {
   "cell_type": "code",
   "execution_count": 95,
   "id": "acaf89b7-5a6c-4c76-9511-c29f68fc8c33",
   "metadata": {},
   "outputs": [],
   "source": [
    "del customer_exp[True][\"address\"]"
   ]
  },
  {
   "cell_type": "code",
   "execution_count": 97,
   "id": "e90ccbf3-812e-44a6-a346-efe48486d2cc",
   "metadata": {},
   "outputs": [
    {
     "data": {
      "text/plain": [
       "{True: {'first_name': 'David', 'last_name': 'Elliot'},\n",
       " False: {'f_name': 'Qasim',\n",
       "  'l_name': 'Hassan',\n",
       "  'address:': 'Street786',\n",
       "  'order_price': 120,\n",
       "  'Order_Item': 'Shoes'}}"
      ]
     },
     "execution_count": 97,
     "metadata": {},
     "output_type": "execute_result"
    }
   ],
   "source": [
    "customer_exp"
   ]
  },
  {
   "cell_type": "code",
   "execution_count": 124,
   "id": "d37ec7ec-5f87-452d-bc0b-6ce634ce7106",
   "metadata": {},
   "outputs": [
    {
     "data": {
      "text/plain": [
       "dict_items([('first_name', 'David'), ('last_name', 'Elliot')])"
      ]
     },
     "execution_count": 124,
     "metadata": {},
     "output_type": "execute_result"
    }
   ],
   "source": [
    "customer.items()"
   ]
  },
  {
   "cell_type": "code",
   "execution_count": 126,
   "id": "26fb968e-5ef9-4db1-a9d4-2986fae45a91",
   "metadata": {},
   "outputs": [
    {
     "data": {
      "text/plain": [
       "dict_keys(['first_name', 'last_name'])"
      ]
     },
     "execution_count": 126,
     "metadata": {},
     "output_type": "execute_result"
    }
   ],
   "source": [
    "customer.keys() "
   ]
  },
  {
   "cell_type": "code",
   "execution_count": 128,
   "id": "c0690f2f-9ce1-422f-933f-c50dedc72537",
   "metadata": {},
   "outputs": [
    {
     "data": {
      "text/plain": [
       "dict_values(['David', 'Elliot'])"
      ]
     },
     "execution_count": 128,
     "metadata": {},
     "output_type": "execute_result"
    }
   ],
   "source": [
    "customer.values()"
   ]
  },
  {
   "cell_type": "code",
   "execution_count": 155,
   "id": "c36053f3-7a19-4b03-8593-22fa65759211",
   "metadata": {},
   "outputs": [
    {
     "name": "stdout",
     "output_type": "stream",
     "text": [
      "first_name\n",
      "last_name\n"
     ]
    }
   ],
   "source": [
    "#Loops always run on iteratables( list , tuple, set , dictionary, range())\n",
    "\n",
    "for key in customer.keys():\n",
    "    print(key)"
   ]
  },
  {
   "cell_type": "code",
   "execution_count": 157,
   "id": "b1225fc6-d853-4679-814c-b623daf9a239",
   "metadata": {},
   "outputs": [
    {
     "name": "stdout",
     "output_type": "stream",
     "text": [
      "David\n",
      "Elliot\n"
     ]
    }
   ],
   "source": [
    "for values in customer.values():\n",
    "    print(values)"
   ]
  },
  {
   "cell_type": "code",
   "execution_count": 175,
   "id": "470f2272-1540-4751-b65c-5fea5cdf7e75",
   "metadata": {},
   "outputs": [
    {
     "name": "stdout",
     "output_type": "stream",
     "text": [
      "Help on dict object:\n",
      "\n",
      "class dict(object)\n",
      " |  dict() -> new empty dictionary\n",
      " |  dict(mapping) -> new dictionary initialized from a mapping object's\n",
      " |      (key, value) pairs\n",
      " |  dict(iterable) -> new dictionary initialized as if via:\n",
      " |      d = {}\n",
      " |      for k, v in iterable:\n",
      " |          d[k] = v\n",
      " |  dict(**kwargs) -> new dictionary initialized with the name=value pairs\n",
      " |      in the keyword argument list.  For example:  dict(one=1, two=2)\n",
      " |\n",
      " |  Built-in subclasses:\n",
      " |      StgDict\n",
      " |\n",
      " |  Methods defined here:\n",
      " |\n",
      " |  __contains__(self, key, /)\n",
      " |      True if the dictionary has the specified key, else False.\n",
      " |\n",
      " |  __delitem__(self, key, /)\n",
      " |      Delete self[key].\n",
      " |\n",
      " |  __eq__(self, value, /)\n",
      " |      Return self==value.\n",
      " |\n",
      " |  __ge__(self, value, /)\n",
      " |      Return self>=value.\n",
      " |\n",
      " |  __getattribute__(self, name, /)\n",
      " |      Return getattr(self, name).\n",
      " |\n",
      " |  __getitem__(self, key, /)\n",
      " |      Return self[key].\n",
      " |\n",
      " |  __gt__(self, value, /)\n",
      " |      Return self>value.\n",
      " |\n",
      " |  __init__(self, /, *args, **kwargs)\n",
      " |      Initialize self.  See help(type(self)) for accurate signature.\n",
      " |\n",
      " |  __ior__(self, value, /)\n",
      " |      Return self|=value.\n",
      " |\n",
      " |  __iter__(self, /)\n",
      " |      Implement iter(self).\n",
      " |\n",
      " |  __le__(self, value, /)\n",
      " |      Return self<=value.\n",
      " |\n",
      " |  __len__(self, /)\n",
      " |      Return len(self).\n",
      " |\n",
      " |  __lt__(self, value, /)\n",
      " |      Return self<value.\n",
      " |\n",
      " |  __ne__(self, value, /)\n",
      " |      Return self!=value.\n",
      " |\n",
      " |  __or__(self, value, /)\n",
      " |      Return self|value.\n",
      " |\n",
      " |  __repr__(self, /)\n",
      " |      Return repr(self).\n",
      " |\n",
      " |  __reversed__(self, /)\n",
      " |      Return a reverse iterator over the dict keys.\n",
      " |\n",
      " |  __ror__(self, value, /)\n",
      " |      Return value|self.\n",
      " |\n",
      " |  __setitem__(self, key, value, /)\n",
      " |      Set self[key] to value.\n",
      " |\n",
      " |  __sizeof__(...)\n",
      " |      D.__sizeof__() -> size of D in memory, in bytes\n",
      " |\n",
      " |  clear(...)\n",
      " |      D.clear() -> None.  Remove all items from D.\n",
      " |\n",
      " |  copy(...)\n",
      " |      D.copy() -> a shallow copy of D\n",
      " |\n",
      " |  get(self, key, default=None, /)\n",
      " |      Return the value for key if key is in the dictionary, else default.\n",
      " |\n",
      " |  items(...)\n",
      " |      D.items() -> a set-like object providing a view on D's items\n",
      " |\n",
      " |  keys(...)\n",
      " |      D.keys() -> a set-like object providing a view on D's keys\n",
      " |\n",
      " |  pop(...)\n",
      " |      D.pop(k[,d]) -> v, remove specified key and return the corresponding value.\n",
      " |\n",
      " |      If the key is not found, return the default if given; otherwise,\n",
      " |      raise a KeyError.\n",
      " |\n",
      " |  popitem(self, /)\n",
      " |      Remove and return a (key, value) pair as a 2-tuple.\n",
      " |\n",
      " |      Pairs are returned in LIFO (last-in, first-out) order.\n",
      " |      Raises KeyError if the dict is empty.\n",
      " |\n",
      " |  setdefault(self, key, default=None, /)\n",
      " |      Insert key with a value of default if key is not in the dictionary.\n",
      " |\n",
      " |      Return the value for key if key is in the dictionary, else default.\n",
      " |\n",
      " |  update(...)\n",
      " |      D.update([E, ]**F) -> None.  Update D from dict/iterable E and F.\n",
      " |      If E is present and has a .keys() method, then does:  for k in E: D[k] = E[k]\n",
      " |      If E is present and lacks a .keys() method, then does:  for k, v in E: D[k] = v\n",
      " |      In either case, this is followed by: for k in F:  D[k] = F[k]\n",
      " |\n",
      " |  values(...)\n",
      " |      D.values() -> an object providing a view on D's values\n",
      " |\n",
      " |  ----------------------------------------------------------------------\n",
      " |  Class methods defined here:\n",
      " |\n",
      " |  __class_getitem__(...)\n",
      " |      See PEP 585\n",
      " |\n",
      " |  fromkeys(iterable, value=None, /)\n",
      " |      Create a new dictionary with keys from iterable and values set to value.\n",
      " |\n",
      " |  ----------------------------------------------------------------------\n",
      " |  Static methods defined here:\n",
      " |\n",
      " |  __new__(*args, **kwargs)\n",
      " |      Create and return a new object.  See help(type) for accurate signature.\n",
      " |\n",
      " |  ----------------------------------------------------------------------\n",
      " |  Data and other attributes defined here:\n",
      " |\n",
      " |  __hash__ = None\n",
      "\n"
     ]
    }
   ],
   "source": [
    "help(customer) # To get help in dictionaries "
   ]
  },
  {
   "cell_type": "code",
   "execution_count": 316,
   "id": "99a2cd04-d382-4905-8618-1ebb7928de4a",
   "metadata": {},
   "outputs": [
    {
     "ename": "SyntaxError",
     "evalue": "invalid syntax (2248747125.py, line 1)",
     "output_type": "error",
     "traceback": [
      "\u001b[1;36m  Cell \u001b[1;32mIn[316], line 1\u001b[1;36m\u001b[0m\n\u001b[1;33m    customer ? #To get help in dictionaries\u001b[0m\n\u001b[1;37m             ^\u001b[0m\n\u001b[1;31mSyntaxError\u001b[0m\u001b[1;31m:\u001b[0m invalid syntax\n"
     ]
    }
   ],
   "source": [
    "customer ? #To get help in dictionaries "
   ]
  },
  {
   "cell_type": "markdown",
   "id": "8fe710c4-6c78-42c2-a817-fd76f2b3bd8f",
   "metadata": {},
   "source": [
    "## Creating a list of dictionaries"
   ]
  },
  {
   "cell_type": "code",
   "execution_count": 192,
   "id": "dc4dcb04-0122-4bae-a015-8f276733dd06",
   "metadata": {},
   "outputs": [],
   "source": [
    "customer_list ={\"f_name\" :[\"Shoaib\",\"Saleem\",\"Qasim\"],\n",
    "                \"l_name\" : [\"Saleem\",\"Shahzad\",\"Hassan\"],\n",
    "                \"address\" : [\"786 street\" , \"120 street\", \"365 street\"],\n",
    "                \"order_price\" : [1200,4100,1500],\n",
    "                \"order_item\" : [\"Laptop\",\"Charger\",\"Mouse\"]\n",
    "               }"
   ]
  },
  {
   "cell_type": "code",
   "execution_count": 196,
   "id": "04602e0e-63a6-4c93-aba3-6c7abd1e2022",
   "metadata": {},
   "outputs": [
    {
     "data": {
      "text/plain": [
       "{'f_name': ['Shoaib', 'Saleem', 'Qasim'],\n",
       " 'l_name': ['Saleem', 'Shahzad', 'Hassan'],\n",
       " 'address': ['786 street', '120 street', '365 street'],\n",
       " 'order_price': [1200, 4100, 1500],\n",
       " 'order_item': ['Laptop', 'Charger', 'Mouse']}"
      ]
     },
     "execution_count": 196,
     "metadata": {},
     "output_type": "execute_result"
    }
   ],
   "source": [
    "customer_list"
   ]
  },
  {
   "cell_type": "code",
   "execution_count": 200,
   "id": "9c7b7e98-0253-4452-a8a3-10844c803207",
   "metadata": {},
   "outputs": [
    {
     "data": {
      "text/plain": [
       "['Shoaib', 'Saleem', 'Qasim']"
      ]
     },
     "execution_count": 200,
     "metadata": {},
     "output_type": "execute_result"
    }
   ],
   "source": [
    "customer_list[\"f_name\"]"
   ]
  },
  {
   "cell_type": "code",
   "execution_count": 330,
   "id": "223285af-bf07-44a5-8946-902e29ad9155",
   "metadata": {},
   "outputs": [
    {
     "name": "stdout",
     "output_type": "stream",
     "text": [
      "['Shoaib', 'Saleem', 'Qasim']\n",
      "['Saleem', 'Shahzad', 'Hassan']\n",
      "['786 street', '120 street', '365 street']\n",
      "[1200, 4100, 1500]\n",
      "['Laptop', 'Charger', 'Mouse']\n",
      "['Shoaib', 'Saleem', 'Qasim']\n",
      "['Saleem', 'Shahzad', 'Hassan']\n",
      "['786 street', '120 street', '365 street']\n",
      "[1200, 4100, 1500]\n",
      "['Laptop', 'Charger', 'Mouse']\n",
      "['Shoaib', 'Saleem', 'Qasim']\n",
      "['Saleem', 'Shahzad', 'Hassan']\n",
      "['786 street', '120 street', '365 street']\n",
      "[1200, 4100, 1500]\n",
      "['Laptop', 'Charger', 'Mouse']\n"
     ]
    }
   ],
   "source": [
    "for i in range(3):\n",
    "    for j in customer_list.values():\n",
    "        print(j);"
   ]
  },
  {
   "cell_type": "code",
   "execution_count": 286,
   "id": "90f44c17-7f05-4e69-8293-4fc3d022dbce",
   "metadata": {},
   "outputs": [
    {
     "name": "stdout",
     "output_type": "stream",
     "text": [
      "\n",
      "Shoaib\n",
      "Saleem\n",
      "786 street\n",
      "1200\n",
      "Laptop\n",
      "\n",
      "Saleem\n",
      "Shahzad\n",
      "120 street\n",
      "4100\n",
      "Charger\n",
      "\n",
      "Qasim\n",
      "Hassan\n",
      "365 street\n",
      "1500\n",
      "Mouse\n"
     ]
    }
   ],
   "source": [
    "for i in range(3):\n",
    "    print();\n",
    "    for j in customer_list.values():\n",
    "        print(j[i]);"
   ]
  },
  {
   "cell_type": "code",
   "execution_count": 258,
   "id": "fec29123-37a9-43a7-b146-6dd66297cbdc",
   "metadata": {},
   "outputs": [
    {
     "name": "stdout",
     "output_type": "stream",
     "text": [
      "Shoaib\n",
      "Saleem\n",
      "Qasim\n",
      "\n",
      "Saleem\n",
      "Shahzad\n",
      "Hassan\n",
      "\n",
      "786 street\n",
      "120 street\n",
      "365 street\n",
      "\n",
      "1200\n",
      "4100\n",
      "1500\n",
      "\n",
      "Laptop\n",
      "Charger\n",
      "Mouse\n",
      "\n"
     ]
    }
   ],
   "source": [
    "for key,value in customer_list.items():\n",
    "    partlen = len(value)\n",
    "    for i in range(partlen):\n",
    "        print(f\"{value[i]}\")\n",
    "    print()"
   ]
  },
  {
   "cell_type": "code",
   "execution_count": 312,
   "id": "83993231-25a1-42f3-8985-91f2410d24f1",
   "metadata": {},
   "outputs": [
    {
     "data": {
      "text/plain": [
       "'Laptop'"
      ]
     },
     "execution_count": 312,
     "metadata": {},
     "output_type": "execute_result"
    }
   ],
   "source": [
    "customer_list[\"order_item\"][0]"
   ]
  },
  {
   "cell_type": "markdown",
   "id": "d8b4164c-4e0c-4eae-b980-fa966cd3641e",
   "metadata": {},
   "source": [
    "## List of dictionaries"
   ]
  },
  {
   "cell_type": "code",
   "execution_count": 341,
   "id": "faffa9a4-0663-4ca6-84ee-b3ea7f13d17c",
   "metadata": {},
   "outputs": [],
   "source": [
    "customer_opposite_case = [{\"f_name\":\"Shoaib\",\n",
    "             \"l_name\":\"Saleem\",\n",
    "             \"address\": \"MC 280\",\n",
    "             \"order_price\":120,\n",
    "             \"order_item\":\"Charger\"},\n",
    "           {\"f_name\":\"asad\",\n",
    "             \"l_name\":\"Shafique\",\n",
    "             \"address\": \"MC 180\",\n",
    "             \"order_price\":150,\n",
    "             \"order_item\":\"Mouse\"},\n",
    "           {\"f_name\":\"Qasim\",\n",
    "             \"l_name\":\"Hassan\",\n",
    "             \"address\": \"MC 280\",\n",
    "             \"order_price\":160,\n",
    "             \"order_item\":\"Laptop\"}]"
   ]
  },
  {
   "cell_type": "code",
   "execution_count": 343,
   "id": "26acef83-1917-4c78-9926-1881ee418171",
   "metadata": {},
   "outputs": [
    {
     "data": {
      "text/plain": [
       "[{'f_name': 'Shoaib',\n",
       "  'l_name': 'Saleem',\n",
       "  'address': 'MC 280',\n",
       "  'order_price': 120,\n",
       "  'order_item': 'Charger'},\n",
       " {'f_name': 'asad',\n",
       "  'l_name': 'Shafique',\n",
       "  'address': 'MC 180',\n",
       "  'order_price': 150,\n",
       "  'order_item': 'Mouse'},\n",
       " {'f_name': 'Qasim',\n",
       "  'l_name': 'Hassan',\n",
       "  'address': 'MC 280',\n",
       "  'order_price': 160,\n",
       "  'order_item': 'Laptop'}]"
      ]
     },
     "execution_count": 343,
     "metadata": {},
     "output_type": "execute_result"
    }
   ],
   "source": [
    "customer_opposite_case"
   ]
  },
  {
   "cell_type": "code",
   "execution_count": 345,
   "id": "6b72ced4-7a7f-4a80-975a-98895d53d47d",
   "metadata": {},
   "outputs": [
    {
     "data": {
      "text/plain": [
       "{'f_name': 'Shoaib',\n",
       " 'l_name': 'Saleem',\n",
       " 'address': 'MC 280',\n",
       " 'order_price': 120,\n",
       " 'order_item': 'Charger'}"
      ]
     },
     "execution_count": 345,
     "metadata": {},
     "output_type": "execute_result"
    }
   ],
   "source": [
    "customer_opposite_case[0]"
   ]
  },
  {
   "cell_type": "code",
   "execution_count": 349,
   "id": "78dc81cd-ba5a-4d13-ab82-0d5f9f110e62",
   "metadata": {},
   "outputs": [
    {
     "data": {
      "text/plain": [
       "'Charger'"
      ]
     },
     "execution_count": 349,
     "metadata": {},
     "output_type": "execute_result"
    }
   ],
   "source": [
    "customer_opposite_case[0][\"order_item\"]"
   ]
  },
  {
   "cell_type": "markdown",
   "id": "0d1f3222-8337-4683-b026-8b27dcd0a891",
   "metadata": {},
   "source": [
    "## How to append a new dictionary to a list of dictionaries"
   ]
  },
  {
   "cell_type": "code",
   "execution_count": 356,
   "id": "eb736931-71ca-4e9d-8c1f-44dba90437e0",
   "metadata": {},
   "outputs": [],
   "source": [
    "customer_opposite_case.append(\n",
    "     {'f_name': 'Wajid',\n",
    "  'l_name': 'Shah',\n",
    "  'address': 'MC 280',\n",
    "  'order_price': 160,\n",
    "  'order_item': 'Laptop'}\n",
    ")"
   ]
  },
  {
   "cell_type": "code",
   "execution_count": 358,
   "id": "ffc1429b-6da5-4e6a-ac80-562af499ad82",
   "metadata": {},
   "outputs": [
    {
     "data": {
      "text/plain": [
       "[{'f_name': 'Shoaib',\n",
       "  'l_name': 'Saleem',\n",
       "  'address': 'MC 280',\n",
       "  'order_price': 120,\n",
       "  'order_item': 'Charger'},\n",
       " {'f_name': 'asad',\n",
       "  'l_name': 'Shafique',\n",
       "  'address': 'MC 180',\n",
       "  'order_price': 150,\n",
       "  'order_item': 'Mouse'},\n",
       " {'f_name': 'Qasim',\n",
       "  'l_name': 'Hassan',\n",
       "  'address': 'MC 280',\n",
       "  'order_price': 160,\n",
       "  'order_item': 'Laptop'},\n",
       " {'f_name': 'Qasim',\n",
       "  'l_name': 'Hassan',\n",
       "  'address': 'MC 280',\n",
       "  'order_price': 160,\n",
       "  'order_item': 'Laptop'},\n",
       " {'f_name': 'Wajid',\n",
       "  'l_name': 'Shah',\n",
       "  'address': 'MC 280',\n",
       "  'order_price': 160,\n",
       "  'order_item': 'Laptop'}]"
      ]
     },
     "execution_count": 358,
     "metadata": {},
     "output_type": "execute_result"
    }
   ],
   "source": [
    "customer_opposite_case"
   ]
  },
  {
   "cell_type": "code",
   "execution_count": 360,
   "id": "65d42426-c62b-435c-a2f7-6ffcb99ee4b9",
   "metadata": {},
   "outputs": [
    {
     "data": {
      "text/plain": [
       "5"
      ]
     },
     "execution_count": 360,
     "metadata": {},
     "output_type": "execute_result"
    }
   ],
   "source": [
    "len(customer_opposite_case)"
   ]
  },
  {
   "cell_type": "code",
   "execution_count": 376,
   "id": "e7edb6f0-1f26-4485-9031-907446be6cb6",
   "metadata": {},
   "outputs": [
    {
     "ename": "IndexError",
     "evalue": "list assignment index out of range",
     "output_type": "error",
     "traceback": [
      "\u001b[1;31m---------------------------------------------------------------------------\u001b[0m",
      "\u001b[1;31mIndexError\u001b[0m                                Traceback (most recent call last)",
      "Cell \u001b[1;32mIn[376], line 1\u001b[0m\n\u001b[1;32m----> 1\u001b[0m customer_opposite_case[\u001b[38;5;241m6\u001b[39m] \u001b[38;5;241m=\u001b[39m {\u001b[38;5;124m'\u001b[39m\u001b[38;5;124mf_name\u001b[39m\u001b[38;5;124m'\u001b[39m: \u001b[38;5;124m'\u001b[39m\u001b[38;5;124mUmar\u001b[39m\u001b[38;5;124m'\u001b[39m,\n\u001b[0;32m      2\u001b[0m   \u001b[38;5;124m'\u001b[39m\u001b[38;5;124ml_name\u001b[39m\u001b[38;5;124m'\u001b[39m: \u001b[38;5;124m'\u001b[39m\u001b[38;5;124mDilshad\u001b[39m\u001b[38;5;124m'\u001b[39m,\n\u001b[0;32m      3\u001b[0m   \u001b[38;5;124m'\u001b[39m\u001b[38;5;124maddress\u001b[39m\u001b[38;5;124m'\u001b[39m: \u001b[38;5;124m'\u001b[39m\u001b[38;5;124mMC 280\u001b[39m\u001b[38;5;124m'\u001b[39m,\n\u001b[0;32m      4\u001b[0m   \u001b[38;5;124m'\u001b[39m\u001b[38;5;124morder_price\u001b[39m\u001b[38;5;124m'\u001b[39m: \u001b[38;5;241m160\u001b[39m,\n\u001b[0;32m      5\u001b[0m   \u001b[38;5;124m'\u001b[39m\u001b[38;5;124morder_item\u001b[39m\u001b[38;5;124m'\u001b[39m: \u001b[38;5;124m'\u001b[39m\u001b[38;5;124mLaptop\u001b[39m\u001b[38;5;124m'\u001b[39m}\n",
      "\u001b[1;31mIndexError\u001b[0m: list assignment index out of range"
     ]
    }
   ],
   "source": [
    "# Index 6 don't exist so we can't add a new list item, we can only update a previous list\n",
    "\n",
    "customer_opposite_case[6] = {'f_name': 'Umar',\n",
    "  'l_name': 'Dilshad',\n",
    "  'address': 'MC 280',\n",
    "  'order_price': 160,\n",
    "  'order_item': 'Laptop'}"
   ]
  },
  {
   "cell_type": "code",
   "execution_count": 400,
   "id": "aa7fc922-7200-4dbb-8f25-11e4b8d6b4f0",
   "metadata": {},
   "outputs": [],
   "source": [
    "del customer_opposite_case[3]"
   ]
  },
  {
   "cell_type": "code",
   "execution_count": 392,
   "id": "39cce125-32ff-4add-a70a-d21502bc20bb",
   "metadata": {},
   "outputs": [],
   "source": [
    "# if we need to add a new dictionary into the list of dictionaries then we need to change the dictiionary into the list first\n",
    "\n",
    "customer_opposite_case +=[{'f_name': 'Wajid',\n",
    "  'l_name': 'Shah',\n",
    "  'address': 'MC 280',\n",
    "  'order_price': 160,\n",
    "  'order_item': 'Laptop'}]"
   ]
  },
  {
   "cell_type": "code",
   "execution_count": 402,
   "id": "3b6dc6c5-59bb-4768-833c-8befab4da030",
   "metadata": {},
   "outputs": [
    {
     "data": {
      "text/plain": [
       "[{'f_name': 'Umar',\n",
       "  'l_name': 'Dilshad',\n",
       "  'address': 'MC 280',\n",
       "  'order_price': 160,\n",
       "  'order_item': 'Laptop'},\n",
       " {'f_name': 'asad',\n",
       "  'l_name': 'Shafique',\n",
       "  'address': 'MC 180',\n",
       "  'order_price': 150,\n",
       "  'order_item': 'Mouse'},\n",
       " {'f_name': 'Qasim',\n",
       "  'l_name': 'Hassan',\n",
       "  'address': 'MC 280',\n",
       "  'order_price': 160,\n",
       "  'order_item': 'Laptop'},\n",
       " {'f_name': 'Wajid',\n",
       "  'l_name': 'Shah',\n",
       "  'address': 'MC 280',\n",
       "  'order_price': 160,\n",
       "  'order_item': 'Laptop'}]"
      ]
     },
     "execution_count": 402,
     "metadata": {},
     "output_type": "execute_result"
    }
   ],
   "source": [
    "customer_opposite_case"
   ]
  },
  {
   "cell_type": "markdown",
   "id": "c7d09079-9acf-4ac6-8659-d53f2937dfc6",
   "metadata": {},
   "source": [
    "## Creating a dictionary that contains a dictionary"
   ]
  },
  {
   "cell_type": "code",
   "execution_count": 6,
   "id": "4653f3e8-9f26-476f-a80d-e2bfe1735461",
   "metadata": {},
   "outputs": [],
   "source": [
    "nested_dictionary ={ \n",
    "0: {\n",
    "  'f_name': 'Wajid',\n",
    "  'l_name': 'Shah',\n",
    "  'address': 'MC 280',\n",
    "  'order_price': 160,\n",
    "  'order_item': 'Laptop'}\n",
    ",\n",
    " 1: {\n",
    "  'f_name': 'Wajid',\n",
    "  'l_name': 'Shah',\n",
    "  'address': 'MC 280',\n",
    "  'order_price': 160,\n",
    "  'order_item': 'Laptop'}\n",
    "} "
   ]
  },
  {
   "cell_type": "code",
   "execution_count": 8,
   "id": "4ec9d865-031e-41b6-b1b4-364e90356522",
   "metadata": {},
   "outputs": [
    {
     "data": {
      "text/plain": [
       "{0: {'f_name': 'Wajid',\n",
       "  'l_name': 'Shah',\n",
       "  'address': 'MC 280',\n",
       "  'order_price': 160,\n",
       "  'order_item': 'Laptop'},\n",
       " 1: {'f_name': 'Wajid',\n",
       "  'l_name': 'Shah',\n",
       "  'address': 'MC 280',\n",
       "  'order_price': 160,\n",
       "  'order_item': 'Laptop'}}"
      ]
     },
     "execution_count": 8,
     "metadata": {},
     "output_type": "execute_result"
    }
   ],
   "source": [
    "nested_dictionary"
   ]
  },
  {
   "cell_type": "code",
   "execution_count": 10,
   "id": "56b931be-b2ef-4588-a33e-c949df2b38a8",
   "metadata": {},
   "outputs": [
    {
     "data": {
      "text/plain": [
       "{'f_name': 'Wajid',\n",
       " 'l_name': 'Shah',\n",
       " 'address': 'MC 280',\n",
       " 'order_price': 160,\n",
       " 'order_item': 'Laptop'}"
      ]
     },
     "execution_count": 10,
     "metadata": {},
     "output_type": "execute_result"
    }
   ],
   "source": [
    "nested_dictionary[0]"
   ]
  },
  {
   "cell_type": "code",
   "execution_count": 14,
   "id": "96cc6d14-2a7b-492c-a748-34e403dc590b",
   "metadata": {},
   "outputs": [
    {
     "data": {
      "text/plain": [
       "'Wajid'"
      ]
     },
     "execution_count": 14,
     "metadata": {},
     "output_type": "execute_result"
    }
   ],
   "source": [
    "nested_dictionary[1][\"f_name\"]"
   ]
  },
  {
   "cell_type": "code",
   "execution_count": null,
   "id": "164e812c-bbe8-4908-9d7b-a8289fccfd7b",
   "metadata": {},
   "outputs": [],
   "source": []
  }
 ],
 "metadata": {
  "kernelspec": {
   "display_name": "Python 3 (ipykernel)",
   "language": "python",
   "name": "python3"
  },
  "language_info": {
   "codemirror_mode": {
    "name": "ipython",
    "version": 3
   },
   "file_extension": ".py",
   "mimetype": "text/x-python",
   "name": "python",
   "nbconvert_exporter": "python",
   "pygments_lexer": "ipython3",
   "version": "3.12.7"
  }
 },
 "nbformat": 4,
 "nbformat_minor": 5
}
