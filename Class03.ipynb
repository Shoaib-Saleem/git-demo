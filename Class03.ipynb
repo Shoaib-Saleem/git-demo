{
 "cells": [
  {
   "cell_type": "markdown",
   "id": "47622a85-70d6-44da-aa3b-0382cb52f4ec",
   "metadata": {},
   "source": [
    "## Shortcuts"
   ]
  },
  {
   "cell_type": "code",
   "execution_count": null,
   "id": "68247b58-f658-491b-a39c-f60ab00edb29",
   "metadata": {},
   "outputs": [],
   "source": [
    "- ESC + 1,2,3 (To convert cell create heading )\n",
    "- ESC + M (convert selected cell into markdown)\n",
    "- ESC + A (create a cell above)\n",
    "- ESC + B (create a cell below)\n",
    "- ESC + DD (to delete any selected cell)\n",
    "- ESC + Y (convert any cell into code)\n",
    "- Shift + Enter (Execute the cell)\n",
    "- CTRL + Enter (run but stay in same cell\n",
    "- CTRL + Shift + H (to get all shortcut commands)"
   ]
  },
  {
   "cell_type": "markdown",
   "id": "c5facd40-2b4a-4598-974a-29c27f807737",
   "metadata": {},
   "source": [
    "## Conditional operators  <,>,=>,<=,!="
   ]
  },
  {
   "cell_type": "code",
   "execution_count": null,
   "id": "3f7aac31-0533-4f38-9940-e73d81f787b3",
   "metadata": {},
   "outputs": [],
   "source": [
    "print(\"Qasim\" != \"Hassan\" )\n",
    "print(\"Qasim\" == \"Qasim\")\n",
    "print"
   ]
  },
  {
   "cell_type": "markdown",
   "id": "1f8cf292-30d6-416f-8bb7-9091b2547ef7",
   "metadata": {},
   "source": [
    "## Logical Operators AND, OR, NOT"
   ]
  },
  {
   "cell_type": "code",
   "execution_count": 35,
   "id": "d487dc51-9df8-4c26-8e11-598eb910bb25",
   "metadata": {},
   "outputs": [
    {
     "name": "stdout",
     "output_type": "stream",
     "text": [
      "True\n",
      "True\n",
      "True\n",
      "False\n"
     ]
    },
    {
     "data": {
      "text/plain": [
       "False"
      ]
     },
     "execution_count": 35,
     "metadata": {},
     "output_type": "execute_result"
    }
   ],
   "source": [
    "print(\"Qasim\" != \"Hassan\") and (\"Qasim\" != \"Asad\")\n",
    "print(\"Qasim\" != \"Hassan\") or (\"Qasim\" != \"Asad\")\n",
    "print(\"Qasim\" != \"Hassan\") and (\"Qasim\" == \"Asad\")\n",
    "print(\"Qasim\" == \"Asad\") or (\"A\" == \"B\")"
   ]
  },
  {
   "cell_type": "markdown",
   "id": "8af2a0cb-5768-4a16-8d5d-a0119f179697",
   "metadata": {},
   "source": [
    "## Conditional Statements"
   ]
  },
  {
   "cell_type": "code",
   "execution_count": 38,
   "id": "9e8afa99-db77-4d0d-87a8-0f589192f014",
   "metadata": {},
   "outputs": [
    {
     "name": "stdout",
     "output_type": "stream",
     "text": [
      "Student\n"
     ]
    }
   ],
   "source": [
    "name = \"Asad\"\n",
    "\n",
    "if name == \"Qasim\":\n",
    "    print(\"Teacher\")\n",
    "else:\n",
    "    print(\"Student\")"
   ]
  },
  {
   "cell_type": "code",
   "execution_count": 42,
   "id": "6fdbe252-6610-416c-8ca5-f62739678803",
   "metadata": {},
   "outputs": [
    {
     "name": "stdout",
     "output_type": "stream",
     "text": [
      "Staff\n"
     ]
    }
   ],
   "source": [
    "name = \"Shan\"\n",
    "\n",
    "if name == \"Qasim\":\n",
    "    print(\"Triner\")\n",
    "elif name == \"Shan\":\n",
    "    print(\"Staff\")\n",
    "else:\n",
    "    print(\"Student\")"
   ]
  },
  {
   "cell_type": "code",
   "execution_count": 82,
   "id": "1f10cd98-8664-47e0-981b-85adb499f3f4",
   "metadata": {},
   "outputs": [
    {
     "name": "stdin",
     "output_type": "stream",
     "text": [
      "Enter Your Name: Shoaib\n"
     ]
    },
    {
     "data": {
      "text/plain": [
       "'Shoaib'"
      ]
     },
     "execution_count": 82,
     "metadata": {},
     "output_type": "execute_result"
    }
   ],
   "source": [
    "## Help -- Shift + Tab \n",
    "## By default input function is string\n",
    "input(\"Enter Your Name:\")"
   ]
  },
  {
   "cell_type": "markdown",
   "id": "6cce60c7-44d5-477e-b972-99ad9d0585d4",
   "metadata": {},
   "source": [
    "## 5% bonus if experience is greater than 5 years"
   ]
  },
  {
   "cell_type": "code",
   "execution_count": 88,
   "id": "f0b79a21-e612-4250-aeb4-c90aed4fbd4d",
   "metadata": {},
   "outputs": [
    {
     "name": "stdin",
     "output_type": "stream",
     "text": [
      "How much is your experiece? 6\n",
      "What is your salary? 544444\n"
     ]
    },
    {
     "name": "stdout",
     "output_type": "stream",
     "text": [
      "Net bonus:27222.2\n"
     ]
    }
   ],
   "source": [
    "exp = int(input(\"How much is your experiece?\"))\n",
    "\n",
    "if exp>5:\n",
    "    salary = float(input(\"What is your salary?\"))\n",
    "    print(\"Net bonus:\" + str((5/100)*salary))\n",
    "else:\n",
    "    print(\"You are not eligible\")"
   ]
  },
  {
   "cell_type": "markdown",
   "id": "ff22693a-8b64-4598-bc16-e9be861b76c6",
   "metadata": {},
   "source": [
    "## Voting eligiblity"
   ]
  },
  {
   "cell_type": "code",
   "execution_count": 100,
   "id": "884d5475-a05b-46ab-925a-ff499aa2e915",
   "metadata": {},
   "outputs": [
    {
     "name": "stdin",
     "output_type": "stream",
     "text": [
      "What's your age? 17\n"
     ]
    },
    {
     "name": "stdout",
     "output_type": "stream",
     "text": [
      "Not eligible\n"
     ]
    }
   ],
   "source": [
    "age = int(input(\"What's your age?\"))\n",
    "\n",
    "if age >= 18:\n",
    "    print(\"Eligible\")\n",
    "else:\n",
    "    print(\"Not eligible\")"
   ]
  },
  {
   "cell_type": "markdown",
   "id": "886df16d-6809-4aab-98ac-a403868762ae",
   "metadata": {},
   "source": [
    "## Number is completely divisible by 5"
   ]
  },
  {
   "cell_type": "code",
   "execution_count": 106,
   "id": "f42310c3-c0b6-4449-b52b-36a2e4aee0ff",
   "metadata": {},
   "outputs": [
    {
     "name": "stdin",
     "output_type": "stream",
     "text": [
      "Enter Number: 7\n"
     ]
    },
    {
     "name": "stdout",
     "output_type": "stream",
     "text": [
      "Bye\n"
     ]
    }
   ],
   "source": [
    "number = int(input(\"Enter Number:\"))\n",
    "\n",
    "if number%5 == 0:\n",
    "    print(\"Hello\")\n",
    "else:\n",
    "    print(\"Bye\")"
   ]
  },
  {
   "cell_type": "markdown",
   "id": "688bb662-1351-494e-aacc-bcd954acc670",
   "metadata": {},
   "source": [
    "## Marks and corresponding grades"
   ]
  },
  {
   "cell_type": "code",
   "execution_count": 134,
   "id": "98884387-c5c6-4d16-b712-5bf35cbc2db3",
   "metadata": {},
   "outputs": [
    {
     "name": "stdin",
     "output_type": "stream",
     "text": [
      "Enter your marks? 101\n"
     ]
    },
    {
     "name": "stdout",
     "output_type": "stream",
     "text": [
      "Invalid input\n"
     ]
    }
   ],
   "source": [
    "Marks = int(input(\"Enter your marks?\"))\n",
    "\n",
    "if Marks > 80 and Marks <=100:\n",
    "    print(\"Grade: A\")\n",
    "elif Marks >= 60 and Marks <= 80:\n",
    "    print(\"Grade: B\")\n",
    "elif Marks >= 50 and Marks <= 60:\n",
    "    print(\"Grade: C\")\n",
    "elif Marks >= 45 and Marks <= 50:\n",
    "    print(\"Grade: D\")\n",
    "elif Marks >= 25 and Marks <= 45:\n",
    "    print(\"Grade: E\")\n",
    "elif Marks < 25:\n",
    "    print(\"Grade: F\")\n",
    "else:\n",
    "    print(\"Invalid input\")"
   ]
  },
  {
   "cell_type": "markdown",
   "id": "b9599920-e246-4427-bb70-ef7cc5f1e2df",
   "metadata": {},
   "source": [
    "# Nested If-Else Statements"
   ]
  },
  {
   "cell_type": "code",
   "execution_count": 152,
   "id": "6f68a38f-ac9b-4fbb-a18c-d706beddd0db",
   "metadata": {},
   "outputs": [
    {
     "name": "stdin",
     "output_type": "stream",
     "text": [
      "what is your nationality? Pakistani\n",
      "Whats your age? 75\n"
     ]
    },
    {
     "name": "stdout",
     "output_type": "stream",
     "text": [
      "Eligible\n"
     ]
    }
   ],
   "source": [
    "nat = input(\"what is your nationality?\")\n",
    "          \n",
    "if nat.lower() == \"pakistani\":\n",
    "    age = int(input(\"Whats your age?\"))\n",
    "    if age >= 18:\n",
    "            print(\"Eligible\")\n",
    "    else:\n",
    "            print(\"Not Eligible\")\n",
    "else:\n",
    "    print(\"You are not pakistani !!\")"
   ]
  },
  {
   "cell_type": "markdown",
   "id": "3e9b0754-fa57-4bf4-8e8e-192ba9f4eb2a",
   "metadata": {},
   "source": [
    "# Check gender and age\n",
    "- Ask user to enter age and gender ( M or F ) and then using following rules print their place of service.\n",
    "- employee is female, then she will work only in urban areas.\n",
    "- employee is a male and age is in between 20 to 40 then he may work in anywhere\n",
    "- if employee is male and age is in between 40 t0 60 then he will work in urban areas only.m\n",
    "- And any other input of age should print \"ERROR\""
   ]
  },
  {
   "cell_type": "code",
   "execution_count": 164,
   "id": "ae150eba-1275-4ccc-accc-0108f10edda6",
   "metadata": {},
   "outputs": [
    {
     "name": "stdin",
     "output_type": "stream",
     "text": [
      "What's your gender? M for Male and F for Female M\n",
      "What's your age? 50\n"
     ]
    },
    {
     "name": "stdout",
     "output_type": "stream",
     "text": [
      "You can only work in urban areas\n"
     ]
    }
   ],
   "source": [
    "gender = input(\"What's your gender? M for Male and F for Female\")\n",
    "#maritial status = input(\"Your maritial status? Y or N\")\n",
    "\n",
    "if gender.lower() == 'f':\n",
    "    print(\"You can work in urban areas only\")\n",
    "elif gender.lower() == 'm':\n",
    "    age = int(input(\"What's your age?\"))\n",
    "    if age >= 20 and age <= 40:\n",
    "        print(\"You can work anywhere\")\n",
    "    elif age >= 40 and age <=60 :\n",
    "        print(\"You can only work in urban areas\")\n",
    "    else:\n",
    "        print(\"Error\")\n",
    "else:\n",
    "    print(\"Error\")"
   ]
  },
  {
   "cell_type": "markdown",
   "id": "01555274-360a-47bf-ada3-593230b6f88b",
   "metadata": {},
   "source": [
    "## Multiline comments"
   ]
  },
  {
   "cell_type": "code",
   "execution_count": 172,
   "id": "96392097-664f-42c2-8085-ac229da78a80",
   "metadata": {},
   "outputs": [
    {
     "name": "stdout",
     "output_type": "stream",
     "text": [
      "hello\n"
     ]
    }
   ],
   "source": [
    "'''\n",
    "hekkpppwdawndwawd\n",
    "'''\n",
    "print(\"hello\")"
   ]
  },
  {
   "cell_type": "markdown",
   "id": "332b5a70-6562-46c4-8a8d-d35a98208b29",
   "metadata": {},
   "source": [
    "## Lists\n",
    "- Lists always starts with []\n",
    "- Values can be separated by ,\n",
    "- Indexing will start from 0 (Left to Right)\n",
    "- Indexing will start from -1 (Right to Left)"
   ]
  },
  {
   "cell_type": "code",
   "execution_count": 3,
   "id": "c01372bd-8190-48ac-9485-856055a8bf2f",
   "metadata": {},
   "outputs": [],
   "source": [
    "cities = [\"karachi\",\"Lahore\",\"Multan\"]"
   ]
  },
  {
   "cell_type": "code",
   "execution_count": 5,
   "id": "b1596211-d0f9-49b5-9da5-7cf534e06ba0",
   "metadata": {},
   "outputs": [
    {
     "data": {
      "text/plain": [
       "['karachi', 'Lahore', 'Multan']"
      ]
     },
     "execution_count": 5,
     "metadata": {},
     "output_type": "execute_result"
    }
   ],
   "source": [
    "cities"
   ]
  },
  {
   "cell_type": "code",
   "execution_count": 7,
   "id": "510af189-36ab-45ef-bee4-4bed3316320b",
   "metadata": {},
   "outputs": [
    {
     "data": {
      "text/plain": [
       "'Lahore'"
      ]
     },
     "execution_count": 7,
     "metadata": {},
     "output_type": "execute_result"
    }
   ],
   "source": [
    "cities[1]"
   ]
  },
  {
   "cell_type": "code",
   "execution_count": 188,
   "id": "9a74ec9e-7b65-4956-b7fa-0298017413ee",
   "metadata": {},
   "outputs": [
    {
     "data": {
      "text/plain": [
       "'Multan'"
      ]
     },
     "execution_count": 188,
     "metadata": {},
     "output_type": "execute_result"
    }
   ],
   "source": [
    "cities[-1]"
   ]
  },
  {
   "cell_type": "markdown",
   "id": "18dc636c-5e0c-4ce8-be77-718d90070a8a",
   "metadata": {},
   "source": [
    "## Slicing\n",
    "- Starting value is always been included\n",
    "- Last value is always not be included"
   ]
  },
  {
   "cell_type": "code",
   "execution_count": 9,
   "id": "20e48fee-6be2-4df0-9204-52902bfbb2f6",
   "metadata": {},
   "outputs": [
    {
     "data": {
      "text/plain": [
       "['karachi', 'Lahore', 'Multan']"
      ]
     },
     "execution_count": 9,
     "metadata": {},
     "output_type": "execute_result"
    }
   ],
   "source": [
    "cities[0:]"
   ]
  },
  {
   "cell_type": "code",
   "execution_count": 11,
   "id": "16d92bd9-807a-495f-83f1-f6b1261d1059",
   "metadata": {},
   "outputs": [
    {
     "data": {
      "text/plain": [
       "['Lahore', 'Multan']"
      ]
     },
     "execution_count": 11,
     "metadata": {},
     "output_type": "execute_result"
    }
   ],
   "source": [
    "cities[1:]"
   ]
  },
  {
   "cell_type": "code",
   "execution_count": 13,
   "id": "0b3da521-5fc1-495a-8cc9-7f913735015a",
   "metadata": {},
   "outputs": [
    {
     "data": {
      "text/plain": [
       "['Lahore']"
      ]
     },
     "execution_count": 13,
     "metadata": {},
     "output_type": "execute_result"
    }
   ],
   "source": [
    "cities[1:2]"
   ]
  },
  {
   "cell_type": "code",
   "execution_count": 15,
   "id": "37870232-7bf8-4c7d-a231-ff2daf748256",
   "metadata": {},
   "outputs": [
    {
     "data": {
      "text/plain": [
       "['karachi']"
      ]
     },
     "execution_count": 15,
     "metadata": {},
     "output_type": "execute_result"
    }
   ],
   "source": [
    "cities[:1]"
   ]
  },
  {
   "cell_type": "code",
   "execution_count": 17,
   "id": "abde000b-ec7f-4f4b-9f12-c5354e9f4d66",
   "metadata": {},
   "outputs": [
    {
     "data": {
      "text/plain": [
       "['karachi', 'Lahore']"
      ]
     },
     "execution_count": 17,
     "metadata": {},
     "output_type": "execute_result"
    }
   ],
   "source": [
    "cities[:2]"
   ]
  },
  {
   "cell_type": "markdown",
   "id": "15e342d1-c0ed-447b-bac2-aed64fdff557",
   "metadata": {},
   "source": [
    "## Lists: Adding and changing elements"
   ]
  },
  {
   "cell_type": "code",
   "execution_count": 19,
   "id": "8699d065-25f4-4d1b-9c40-ae697ec8af9b",
   "metadata": {},
   "outputs": [],
   "source": [
    "cities[0] = \"New York\""
   ]
  },
  {
   "cell_type": "code",
   "execution_count": 21,
   "id": "3f50ad7d-34a9-4eca-8e12-a887481fd1e9",
   "metadata": {},
   "outputs": [
    {
     "data": {
      "text/plain": [
       "['New York', 'Lahore', 'Multan']"
      ]
     },
     "execution_count": 21,
     "metadata": {},
     "output_type": "execute_result"
    }
   ],
   "source": [
    "cities"
   ]
  },
  {
   "cell_type": "code",
   "execution_count": 23,
   "id": "3f6f9bf3-bc5f-4a78-baaa-9def2bad8a6d",
   "metadata": {},
   "outputs": [],
   "source": [
    "cities.append(\"Turbat\")"
   ]
  },
  {
   "cell_type": "code",
   "execution_count": 25,
   "id": "f01a79e3-136d-4db2-8e34-0a514fa88ecc",
   "metadata": {},
   "outputs": [
    {
     "data": {
      "text/plain": [
       "['New York', 'Lahore', 'Multan', 'Turbat']"
      ]
     },
     "execution_count": 25,
     "metadata": {},
     "output_type": "execute_result"
    }
   ],
   "source": [
    "cities"
   ]
  },
  {
   "cell_type": "code",
   "execution_count": 27,
   "id": "49b76a58-563c-430f-b6a2-73e57922dc83",
   "metadata": {},
   "outputs": [],
   "source": [
    "cities.remove(\"Turbat\")"
   ]
  },
  {
   "cell_type": "code",
   "execution_count": 29,
   "id": "59ac34a9-2d50-47c3-8f99-427e5a58a696",
   "metadata": {},
   "outputs": [
    {
     "data": {
      "text/plain": [
       "['New York', 'Lahore', 'Multan']"
      ]
     },
     "execution_count": 29,
     "metadata": {},
     "output_type": "execute_result"
    }
   ],
   "source": [
    "cities"
   ]
  },
  {
   "cell_type": "code",
   "execution_count": 31,
   "id": "928de8bd-7d73-41d5-ade4-e6d10e87f43d",
   "metadata": {},
   "outputs": [
    {
     "data": {
      "text/plain": [
       "'New York'"
      ]
     },
     "execution_count": 31,
     "metadata": {},
     "output_type": "execute_result"
    }
   ],
   "source": [
    "cities[0]"
   ]
  },
  {
   "cell_type": "code",
   "execution_count": 35,
   "id": "727f493e-c4d2-4e15-aef4-26080bc01618",
   "metadata": {},
   "outputs": [],
   "source": [
    "tasks = [\"email Frank\", \"call Sarah\", \"meet with Zach\"]\n"
   ]
  },
  {
   "cell_type": "code",
   "execution_count": 37,
   "id": "01184e65-3f95-437b-b890-8e702ddb016d",
   "metadata": {},
   "outputs": [
    {
     "data": {
      "text/plain": [
       "['email Frank', 'call Sarah', 'meet with Zach']"
      ]
     },
     "execution_count": 37,
     "metadata": {},
     "output_type": "execute_result"
    }
   ],
   "source": [
    "tasks"
   ]
  },
  {
   "cell_type": "code",
   "execution_count": 39,
   "id": "ed440b8d-fb9b-4034-aed8-f4385e91b2ad",
   "metadata": {},
   "outputs": [],
   "source": [
    "latest_task_accomplished = tasks.pop(1)\n"
   ]
  },
  {
   "cell_type": "code",
   "execution_count": 41,
   "id": "5ffb1189-af66-4044-a548-19849b05871e",
   "metadata": {},
   "outputs": [
    {
     "data": {
      "text/plain": [
       "['email Frank', 'meet with Zach']"
      ]
     },
     "execution_count": 41,
     "metadata": {},
     "output_type": "execute_result"
    }
   ],
   "source": [
    "tasks"
   ]
  },
  {
   "cell_type": "code",
   "execution_count": 43,
   "id": "8755afc9-083a-49ed-9e1f-341f5322549d",
   "metadata": {},
   "outputs": [
    {
     "data": {
      "text/plain": [
       "'call Sarah'"
      ]
     },
     "execution_count": 43,
     "metadata": {},
     "output_type": "execute_result"
    }
   ],
   "source": [
    "latest_task_accomplished"
   ]
  },
  {
   "cell_type": "code",
   "execution_count": 45,
   "id": "1584ab2b-8b29-43fb-82c0-95a9363c07cf",
   "metadata": {},
   "outputs": [
    {
     "ename": "NameError",
     "evalue": "name 'tasks_accomplished' is not defined",
     "output_type": "error",
     "traceback": [
      "\u001b[1;31m---------------------------------------------------------------------------\u001b[0m",
      "\u001b[1;31mNameError\u001b[0m                                 Traceback (most recent call last)",
      "Cell \u001b[1;32mIn[45], line 1\u001b[0m\n\u001b[1;32m----> 1\u001b[0m tasks_accomplished\u001b[38;5;241m.\u001b[39mappend(tasks\u001b[38;5;241m.\u001b[39mpop(\u001b[38;5;241m1\u001b[39m))\n",
      "\u001b[1;31mNameError\u001b[0m: name 'tasks_accomplished' is not defined"
     ]
    }
   ],
   "source": [
    "tasks_accomplished.append(tasks.pop(1))"
   ]
  },
  {
   "cell_type": "code",
   "execution_count": 47,
   "id": "e5dfb7af-e8f5-43b1-9037-313d1391a1ad",
   "metadata": {},
   "outputs": [
    {
     "ename": "NameError",
     "evalue": "name 'tasks_accomplished' is not defined",
     "output_type": "error",
     "traceback": [
      "\u001b[1;31m---------------------------------------------------------------------------\u001b[0m",
      "\u001b[1;31mNameError\u001b[0m                                 Traceback (most recent call last)",
      "Cell \u001b[1;32mIn[47], line 1\u001b[0m\n\u001b[1;32m----> 1\u001b[0m tasks_accomplished\u001b[38;5;241m.\u001b[39mappend(latest_task_accomplished)\n",
      "\u001b[1;31mNameError\u001b[0m: name 'tasks_accomplished' is not defined"
     ]
    }
   ],
   "source": [
    "tasks_accomplished.append(latest_task_accomplished)"
   ]
  },
  {
   "cell_type": "code",
   "execution_count": null,
   "id": "8a5bb27f-99a8-4481-bd96-5aeb2eec7af6",
   "metadata": {},
   "outputs": [],
   "source": []
  }
 ],
 "metadata": {
  "kernelspec": {
   "display_name": "Python 3 (ipykernel)",
   "language": "python",
   "name": "python3"
  },
  "language_info": {
   "codemirror_mode": {
    "name": "ipython",
    "version": 3
   },
   "file_extension": ".py",
   "mimetype": "text/x-python",
   "name": "python",
   "nbconvert_exporter": "python",
   "pygments_lexer": "ipython3",
   "version": "3.12.7"
  }
 },
 "nbformat": 4,
 "nbformat_minor": 5
}
